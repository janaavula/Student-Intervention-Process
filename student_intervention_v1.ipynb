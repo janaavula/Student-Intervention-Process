{
 "cells": [
  {
   "cell_type": "markdown",
   "metadata": {},
   "source": [
    "# Project 2: Supervised Learning\n",
    "### Building a Student Intervention System"
   ]
  },
  {
   "cell_type": "markdown",
   "metadata": {},
   "source": [
    "## 1. Classification vs Regression\n",
    "\n",
    "Your goal is to identify students who might need early intervention - which type of supervised machine learning problem is this, classification or regression? Why?\n",
    "\n",
    "It is classification problem as we need to seperate data into two labels one being students who needs intervention and students who dont need intervention."
   ]
  },
  {
   "cell_type": "markdown",
   "metadata": {},
   "source": [
    "## 2. Exploring the Data\n",
    "\n",
    "Let's go ahead and read in the student dataset first.\n",
    "\n",
    "_To execute a code cell, click inside it and press **Shift+Enter**._"
   ]
  },
  {
   "cell_type": "code",
   "execution_count": 2,
   "metadata": {
    "collapsed": false
   },
   "outputs": [],
   "source": [
    "# Import libraries\n",
    "import numpy as np\n",
    "import pandas as pd\n"
   ]
  },
  {
   "cell_type": "code",
   "execution_count": 3,
   "metadata": {
    "collapsed": false
   },
   "outputs": [
    {
     "name": "stdout",
     "output_type": "stream",
     "text": [
      "Student data read successfully!\n"
     ]
    }
   ],
   "source": [
    "# Read student data\n",
    "global student_data\n",
    "student_data = pd.read_csv(\"student-data.csv\")\n",
    "print \"Student data read successfully!\"\n",
    "#print (student_data['passed'])\n",
    "#Randomizing student data\n",
    "#student_data = student_data .iloc[np.random.permutation(len(student_data))]\n",
    "\n",
    "# Note: The last column 'passed' is the target/label, all other are feature columns"
   ]
  },
  {
   "cell_type": "markdown",
   "metadata": {},
   "source": [
    "Now, can you find out the following facts about the dataset?\n",
    "- Total number of students\n",
    "- Number of students who passed\n",
    "- Number of students who failed\n",
    "- Graduation rate of the class (%)\n",
    "- Number of features\n",
    "\n",
    "_Use the code block below to compute these values. Instructions/steps are marked using **TODO**s._"
   ]
  },
  {
   "cell_type": "code",
   "execution_count": 4,
   "metadata": {
    "collapsed": false
   },
   "outputs": [
    {
     "name": "stdout",
     "output_type": "stream",
     "text": [
      "Total number of students: 395\n",
      "Number of students who passed: 265\n",
      "Number of students who failed: 130\n",
      "Number of features: 30\n",
      "Graduation rate of the class: 67.09%\n"
     ]
    }
   ],
   "source": [
    "# TODO: Compute desired values - replace each '?' with an appropriate expression/function call\n",
    "#print (student_data.shape)\n",
    "n_students = student_data.shape[0]\n",
    "#print(n_students)\n",
    "n_features = student_data.shape[1]-1\n",
    "#print(n_features)\n",
    "passed = (student_data['passed'] == 'yes')\n",
    "#print type(passed)\n",
    "n_passed = student_data[passed].shape[0]\n",
    "#print(n_passed)\n",
    "\n",
    "failed = (student_data['passed'] == 'no')\n",
    "n_failed = student_data[failed].shape[0]\n",
    "grad_rate = ((float(n_passed) / float(n_students))*100)\n",
    "\n",
    "print \"Total number of students: {}\".format(n_students)\n",
    "print \"Number of students who passed: {}\".format(n_passed)\n",
    "print \"Number of students who failed: {}\".format(n_failed)\n",
    "print \"Number of features: {}\".format(n_features)\n",
    "print \"Graduation rate of the class: {:.2f}%\".format(grad_rate)\n",
    "\n"
   ]
  },
  {
   "cell_type": "markdown",
   "metadata": {},
   "source": [
    "## 3. Preparing the Data\n",
    "In this section, we will prepare the data for modeling, training and testing.\n",
    "\n",
    "### Identify feature and target columns\n",
    "It is often the case that the data you obtain contains non-numeric features. This can be a problem, as most machine learning algorithms expect numeric data to perform computations with.\n",
    "\n",
    "Let's first separate our data into feature and target columns, and see if any features are non-numeric.<br/>\n",
    "**Note**: For this dataset, the last column (`'passed'`) is the target or label we are trying to predict."
   ]
  },
  {
   "cell_type": "code",
   "execution_count": 5,
   "metadata": {
    "collapsed": false
   },
   "outputs": [
    {
     "name": "stdout",
     "output_type": "stream",
     "text": [
      "<type 'list'>\n",
      "Feature column(s):-\n",
      "['school', 'sex', 'age', 'address', 'famsize', 'Pstatus', 'Medu', 'Fedu', 'Mjob', 'Fjob', 'reason', 'guardian', 'traveltime', 'studytime', 'failures', 'schoolsup', 'famsup', 'paid', 'activities', 'nursery', 'higher', 'internet', 'romantic', 'famrel', 'freetime', 'goout', 'Dalc', 'Walc', 'health', 'absences']\n",
      "Target column: passed\n",
      "\n",
      "Feature values:-\n",
      "  school sex  age address famsize Pstatus  Medu  Fedu     Mjob      Fjob  \\\n",
      "0     GP   F   18       U     GT3       A     4     4  at_home   teacher   \n",
      "1     GP   F   17       U     GT3       T     1     1  at_home     other   \n",
      "2     GP   F   15       U     LE3       T     1     1  at_home     other   \n",
      "3     GP   F   15       U     GT3       T     4     2   health  services   \n",
      "4     GP   F   16       U     GT3       T     3     3    other     other   \n",
      "\n",
      "    ...    higher internet  romantic  famrel  freetime goout Dalc Walc health  \\\n",
      "0   ...       yes       no        no       4         3     4    1    1      3   \n",
      "1   ...       yes      yes        no       5         3     3    1    1      3   \n",
      "2   ...       yes      yes        no       4         3     2    2    3      3   \n",
      "3   ...       yes      yes       yes       3         2     2    1    1      5   \n",
      "4   ...       yes       no        no       4         3     2    1    2      5   \n",
      "\n",
      "  absences  \n",
      "0        6  \n",
      "1        4  \n",
      "2       10  \n",
      "3        2  \n",
      "4        4  \n",
      "\n",
      "[5 rows x 30 columns]\n"
     ]
    }
   ],
   "source": [
    "# Extract feature (X) and target (y) columns\n",
    "feature_cols = list(student_data.columns[:-1])  # all columns but last are features\n",
    "print (type(feature_cols))\n",
    "target_col = student_data.columns[-1]  # last column is the target/label\n",
    "print \"Feature column(s):-\\n{}\".format(feature_cols)\n",
    "print \"Target column: {}\".format(target_col)\n",
    "\n",
    "X_all = student_data[feature_cols]  # feature values for all students\n",
    "y_all = student_data[target_col]  # corresponding targets/labels\n",
    "print \"\\nFeature values:-\"\n",
    "print X_all.head()  # print the first 5 rows"
   ]
  },
  {
   "cell_type": "markdown",
   "metadata": {},
   "source": [
    "### Preprocess feature columns\n",
    "\n",
    "As you can see, there are several non-numeric columns that need to be converted! Many of them are simply `yes`/`no`, e.g. `internet`. These can be reasonably converted into `1`/`0` (binary) values.\n",
    "\n",
    "Other columns, like `Mjob` and `Fjob`, have more than two values, and are known as _categorical variables_. The recommended way to handle such a column is to create as many columns as possible values (e.g. `Fjob_teacher`, `Fjob_other`, `Fjob_services`, etc.), and assign a `1` to one of them and `0` to all others.\n",
    "\n",
    "These generated columns are sometimes called _dummy variables_, and we will use the [`pandas.get_dummies()`](http://pandas.pydata.org/pandas-docs/stable/generated/pandas.get_dummies.html?highlight=get_dummies#pandas.get_dummies) function to perform this transformation."
   ]
  },
  {
   "cell_type": "code",
   "execution_count": 6,
   "metadata": {
    "collapsed": false
   },
   "outputs": [
    {
     "name": "stdout",
     "output_type": "stream",
     "text": [
      "Processed feature columns (48):-\n",
      "['school_GP', 'school_MS', 'sex_F', 'sex_M', 'age', 'address_R', 'address_U', 'famsize_GT3', 'famsize_LE3', 'Pstatus_A', 'Pstatus_T', 'Medu', 'Fedu', 'Mjob_at_home', 'Mjob_health', 'Mjob_other', 'Mjob_services', 'Mjob_teacher', 'Fjob_at_home', 'Fjob_health', 'Fjob_other', 'Fjob_services', 'Fjob_teacher', 'reason_course', 'reason_home', 'reason_other', 'reason_reputation', 'guardian_father', 'guardian_mother', 'guardian_other', 'traveltime', 'studytime', 'failures', 'schoolsup', 'famsup', 'paid', 'activities', 'nursery', 'higher', 'internet', 'romantic', 'famrel', 'freetime', 'goout', 'Dalc', 'Walc', 'health', 'absences']\n",
      "<bound method DataFrame.head of      school_GP  school_MS  sex_F  sex_M  age  address_R  address_U  \\\n",
      "0            1          0      1      0   18          0          1   \n",
      "1            1          0      1      0   17          0          1   \n",
      "2            1          0      1      0   15          0          1   \n",
      "3            1          0      1      0   15          0          1   \n",
      "4            1          0      1      0   16          0          1   \n",
      "5            1          0      0      1   16          0          1   \n",
      "6            1          0      0      1   16          0          1   \n",
      "7            1          0      1      0   17          0          1   \n",
      "8            1          0      0      1   15          0          1   \n",
      "9            1          0      0      1   15          0          1   \n",
      "10           1          0      1      0   15          0          1   \n",
      "11           1          0      1      0   15          0          1   \n",
      "12           1          0      0      1   15          0          1   \n",
      "13           1          0      0      1   15          0          1   \n",
      "14           1          0      0      1   15          0          1   \n",
      "15           1          0      1      0   16          0          1   \n",
      "16           1          0      1      0   16          0          1   \n",
      "17           1          0      1      0   16          0          1   \n",
      "18           1          0      0      1   17          0          1   \n",
      "19           1          0      0      1   16          0          1   \n",
      "20           1          0      0      1   15          0          1   \n",
      "21           1          0      0      1   15          0          1   \n",
      "22           1          0      0      1   16          0          1   \n",
      "23           1          0      0      1   16          0          1   \n",
      "24           1          0      1      0   15          1          0   \n",
      "25           1          0      1      0   16          0          1   \n",
      "26           1          0      0      1   15          0          1   \n",
      "27           1          0      0      1   15          0          1   \n",
      "28           1          0      0      1   16          0          1   \n",
      "29           1          0      0      1   16          0          1   \n",
      "..         ...        ...    ...    ...  ...        ...        ...   \n",
      "365          0          1      0      1   18          1          0   \n",
      "366          0          1      0      1   18          0          1   \n",
      "367          0          1      1      0   17          1          0   \n",
      "368          0          1      1      0   18          0          1   \n",
      "369          0          1      1      0   18          1          0   \n",
      "370          0          1      1      0   19          0          1   \n",
      "371          0          1      0      1   18          1          0   \n",
      "372          0          1      1      0   17          0          1   \n",
      "373          0          1      1      0   17          1          0   \n",
      "374          0          1      1      0   18          1          0   \n",
      "375          0          1      1      0   18          1          0   \n",
      "376          0          1      1      0   20          0          1   \n",
      "377          0          1      1      0   18          1          0   \n",
      "378          0          1      1      0   18          0          1   \n",
      "379          0          1      1      0   17          1          0   \n",
      "380          0          1      0      1   18          0          1   \n",
      "381          0          1      0      1   18          1          0   \n",
      "382          0          1      0      1   17          0          1   \n",
      "383          0          1      0      1   19          1          0   \n",
      "384          0          1      0      1   18          1          0   \n",
      "385          0          1      1      0   18          1          0   \n",
      "386          0          1      1      0   18          1          0   \n",
      "387          0          1      1      0   19          1          0   \n",
      "388          0          1      1      0   18          0          1   \n",
      "389          0          1      1      0   18          0          1   \n",
      "390          0          1      0      1   20          0          1   \n",
      "391          0          1      0      1   17          0          1   \n",
      "392          0          1      0      1   21          1          0   \n",
      "393          0          1      0      1   18          1          0   \n",
      "394          0          1      0      1   19          0          1   \n",
      "\n",
      "     famsize_GT3  famsize_LE3  Pstatus_A    ...     higher  internet  \\\n",
      "0              1            0          1    ...          1         0   \n",
      "1              1            0          0    ...          1         1   \n",
      "2              0            1          0    ...          1         1   \n",
      "3              1            0          0    ...          1         1   \n",
      "4              1            0          0    ...          1         0   \n",
      "5              0            1          0    ...          1         1   \n",
      "6              0            1          0    ...          1         1   \n",
      "7              1            0          1    ...          1         0   \n",
      "8              0            1          1    ...          1         1   \n",
      "9              1            0          0    ...          1         1   \n",
      "10             1            0          0    ...          1         1   \n",
      "11             1            0          0    ...          1         1   \n",
      "12             0            1          0    ...          1         1   \n",
      "13             1            0          0    ...          1         1   \n",
      "14             1            0          1    ...          1         1   \n",
      "15             1            0          0    ...          1         1   \n",
      "16             1            0          0    ...          1         1   \n",
      "17             1            0          0    ...          1         0   \n",
      "18             1            0          0    ...          1         1   \n",
      "19             0            1          0    ...          1         1   \n",
      "20             1            0          0    ...          1         1   \n",
      "21             1            0          0    ...          1         1   \n",
      "22             0            1          0    ...          1         1   \n",
      "23             0            1          0    ...          1         1   \n",
      "24             1            0          0    ...          1         1   \n",
      "25             1            0          0    ...          1         1   \n",
      "26             1            0          0    ...          1         1   \n",
      "27             1            0          0    ...          1         1   \n",
      "28             0            1          1    ...          1         1   \n",
      "29             1            0          0    ...          1         1   \n",
      "..           ...          ...        ...    ...        ...       ...   \n",
      "365            1            0          0    ...          1         0   \n",
      "366            0            1          0    ...          1         1   \n",
      "367            1            0          0    ...          1         1   \n",
      "368            1            0          0    ...          1         1   \n",
      "369            1            0          0    ...          1         1   \n",
      "370            0            1          0    ...          1         0   \n",
      "371            0            1          0    ...          0         1   \n",
      "372            1            0          0    ...          1         0   \n",
      "373            1            0          0    ...          1         1   \n",
      "374            0            1          0    ...          1         1   \n",
      "375            1            0          0    ...          1         1   \n",
      "376            1            0          0    ...          1         1   \n",
      "377            0            1          0    ...          1         1   \n",
      "378            1            0          0    ...          1         1   \n",
      "379            1            0          0    ...          1         1   \n",
      "380            1            0          0    ...          1         1   \n",
      "381            1            0          0    ...          1         1   \n",
      "382            1            0          0    ...          1         1   \n",
      "383            1            0          0    ...          1         0   \n",
      "384            1            0          0    ...          1         0   \n",
      "385            1            0          0    ...          1         0   \n",
      "386            1            0          0    ...          1         1   \n",
      "387            1            0          0    ...          1         1   \n",
      "388            0            1          0    ...          1         1   \n",
      "389            1            0          0    ...          1         0   \n",
      "390            0            1          1    ...          1         0   \n",
      "391            0            1          0    ...          1         1   \n",
      "392            1            0          0    ...          1         0   \n",
      "393            0            1          0    ...          1         1   \n",
      "394            0            1          0    ...          1         1   \n",
      "\n",
      "     romantic  famrel  freetime  goout  Dalc  Walc  health  absences  \n",
      "0           0       4         3      4     1     1       3         6  \n",
      "1           0       5         3      3     1     1       3         4  \n",
      "2           0       4         3      2     2     3       3        10  \n",
      "3           1       3         2      2     1     1       5         2  \n",
      "4           0       4         3      2     1     2       5         4  \n",
      "5           0       5         4      2     1     2       5        10  \n",
      "6           0       4         4      4     1     1       3         0  \n",
      "7           0       4         1      4     1     1       1         6  \n",
      "8           0       4         2      2     1     1       1         0  \n",
      "9           0       5         5      1     1     1       5         0  \n",
      "10          0       3         3      3     1     2       2         0  \n",
      "11          0       5         2      2     1     1       4         4  \n",
      "12          0       4         3      3     1     3       5         2  \n",
      "13          0       5         4      3     1     2       3         2  \n",
      "14          1       4         5      2     1     1       3         0  \n",
      "15          0       4         4      4     1     2       2         4  \n",
      "16          0       3         2      3     1     2       2         6  \n",
      "17          0       5         3      2     1     1       4         4  \n",
      "18          0       5         5      5     2     4       5        16  \n",
      "19          0       3         1      3     1     3       5         4  \n",
      "20          0       4         4      1     1     1       1         0  \n",
      "21          0       5         4      2     1     1       5         0  \n",
      "22          0       4         5      1     1     3       5         2  \n",
      "23          0       5         4      4     2     4       5         0  \n",
      "24          0       4         3      2     1     1       5         2  \n",
      "25          0       1         2      2     1     3       5        14  \n",
      "26          0       4         2      2     1     2       5         2  \n",
      "27          0       2         2      4     2     4       1         4  \n",
      "28          0       5         3      3     1     1       5         4  \n",
      "29          1       4         4      5     5     5       5        16  \n",
      "..        ...     ...       ...    ...   ...   ...     ...       ...  \n",
      "365         0       3         3      4     2     4       3         4  \n",
      "366         1       4         2      2     2     2       5         0  \n",
      "367         1       5         2      1     1     2       1         0  \n",
      "368         1       5         2      3     1     2       4         0  \n",
      "369         1       3         2      2     4     2       5        10  \n",
      "370         1       3         2      2     1     1       3         4  \n",
      "371         1       4         3      3     2     3       3         3  \n",
      "372         1       3         4      3     1     1       3         8  \n",
      "373         0       3         5      5     1     3       1        14  \n",
      "374         0       5         4      4     1     1       1         0  \n",
      "375         0       4         3      2     1     2       4         2  \n",
      "376         1       5         4      3     1     1       3         4  \n",
      "377         0       5         4      3     3     4       2         4  \n",
      "378         1       4         1      3     1     2       1         0  \n",
      "379         0       4         5      4     2     3       1        17  \n",
      "380         0       3         2      4     1     4       2         4  \n",
      "381         1       4         4      3     1     3       5         5  \n",
      "382         0       4         4      3     1     1       3         2  \n",
      "383         0       4         3      2     1     3       5         0  \n",
      "384         0       5         4      3     4     3       3        14  \n",
      "385         0       5         3      3     1     3       4         2  \n",
      "386         1       4         4      3     2     2       5         7  \n",
      "387         0       5         4      2     1     2       5         0  \n",
      "388         0       4         3      4     1     1       1         0  \n",
      "389         0       1         1      1     1     1       5         0  \n",
      "390         0       5         5      4     4     5       4        11  \n",
      "391         0       2         4      5     3     4       2         3  \n",
      "392         0       5         5      3     3     3       3         3  \n",
      "393         0       4         4      1     3     4       5         0  \n",
      "394         0       3         2      3     3     3       5         5  \n",
      "\n",
      "[395 rows x 48 columns]>\n"
     ]
    }
   ],
   "source": [
    "# Preprocess feature columns\n",
    "def preprocess_features(X):\n",
    "    outX = pd.DataFrame(index=X.index)  # output dataframe, initially empty\n",
    "    #print(outX)\n",
    "    # Check each column\n",
    "    for col, col_data in X.iteritems():\n",
    "        #print col\n",
    "        #print col_data\n",
    "        # If data type is non-numeric, try to replace all yes/no values with 1/0\n",
    "        if col_data.dtype == object:\n",
    "            col_data = col_data.replace(['yes', 'no'], [1, 0])\n",
    "        # Note: This should change the data type for yes/no columns to int\n",
    "\n",
    "        # If still non-numeric, convert to one or more dummy variables\n",
    "        if col_data.dtype == object:\n",
    "            col_data = pd.get_dummies(col_data, prefix=col)  # e.g. 'school' => 'school_GP', 'school_MS'\n",
    "        #print (col_data)\n",
    "        outX = outX.join(col_data)  # collect column(s) in output dataframe\n",
    "        #print (outX)\n",
    "    return outX\n",
    "\n",
    "##global X_all\n",
    "X_all = preprocess_features(X_all)\n",
    "#print (X_all)\n",
    "print \"Processed feature columns ({}):-\\n{}\".format(len(X_all.columns), list(X_all.columns))\n",
    "print (X_all).head"
   ]
  },
  {
   "cell_type": "markdown",
   "metadata": {},
   "source": [
    "### Split data into training and test sets\n",
    "\n",
    "So far, we have converted all _categorical_ features into numeric values. In this next step, we split the data (both features and corresponding labels) into training and test sets."
   ]
  },
  {
   "cell_type": "code",
   "execution_count": 39,
   "metadata": {
    "collapsed": false
   },
   "outputs": [
    {
     "name": "stdout",
     "output_type": "stream",
     "text": [
      "Training set: 300 samples\n",
      "Test set: 95 samples\n"
     ]
    }
   ],
   "source": [
    "# First, decide how many training vs test samples you want\n",
    "#num_all = student_data.shape[0]  # same as len(student_data)\n",
    "#num_train = 300  # about 75% of the data\n",
    "#num_test = num_all - num_train\n",
    "\n",
    "# TODO: Then, select features (X) and corresponding labels (y) for the training and test sets\n",
    "# Note: Shuffle the data or randomly select samples to avoid any bias due to ordering in the dataset\n",
    "from sklearn.cross_validation import train_test_split\n",
    "X_train, X_test, y_train, y_test = train_test_split(X_all, y_all, test_size=0.24, random_state=42)\n",
    "\n",
    "#X_train = X_all[:num_train]\n",
    "#X_test = X_all[num_train:num_all]\n",
    "#y_train = y_all[:num_train]\n",
    "#y_test = y_all[num_train:num_all]\n",
    "#print (X_train.head)\n",
    "#print (y_train.head)\n",
    "#print (X_test.head)\n",
    "#print (y_test.head)\n",
    "\n",
    "\n",
    "print \"Training set: {} samples\".format(X_train.shape[0])\n",
    "print \"Test set: {} samples\".format(X_test.shape[0])\n",
    "# Note: If you need a validation set, extract it from within training data\n",
    "\n",
    "#X_train.to_csv('out.csv')"
   ]
  },
  {
   "cell_type": "markdown",
   "metadata": {},
   "source": [
    "## 4. Training and Evaluating Models\n",
    "Choose 3 supervised learning models that are available in scikit-learn, and appropriate for this problem. For each model:\n",
    "\n",
    "- What are the general applications of this model? What are its strengths and weaknesses?\n",
    "- Given what you know about the data so far, why did you choose this model to apply?\n",
    "- Fit this model to the training data, try to predict labels (for both training and test sets), and measure the F<sub>1</sub> score. Repeat this process with different training set sizes (100, 200, 300), keeping test set constant.\n",
    "\n",
    "Produce a table showing training time, prediction time, F<sub>1</sub> score on training set and F<sub>1</sub> score on test set, for each training set size.\n",
    "\n",
    "Note: You need to produce 3 such tables - one for each model."
   ]
  },
  {
   "cell_type": "code",
   "execution_count": 40,
   "metadata": {
    "collapsed": false
   },
   "outputs": [
    {
     "name": "stdout",
     "output_type": "stream",
     "text": [
      "Training GaussianNB...\n",
      "Done!\n",
      "Training time (secs): 0.002\n"
     ]
    }
   ],
   "source": [
    "# Train a model\n",
    "import time\n",
    "\n",
    "def train_classifier(clf, X_train, y_train):\n",
    "    print \"Training {}...\".format(clf.__class__.__name__)\n",
    "    start = time.time()\n",
    "    clf.fit(X_train, y_train)\n",
    "    end = time.time()\n",
    "    print \"Done!\\nTraining time (secs): {:.3f}\".format(end - start)\n",
    "\n",
    "# TODO: Choose a model, import it and instantiate an object\n",
    "#import ?\n",
    "\n",
    "from sklearn.naive_bayes import GaussianNB\n",
    "clf =  GaussianNB()\n",
    "\n",
    "# Fit model to training data\n",
    "train_classifier(clf, X_train, y_train)  # note: using entire training set here\n",
    "#print clf  # you can inspect the learned model by printing it"
   ]
  },
  {
   "cell_type": "code",
   "execution_count": 41,
   "metadata": {
    "collapsed": false
   },
   "outputs": [
    {
     "name": "stdout",
     "output_type": "stream",
     "text": [
      "Predicting labels using GaussianNB...\n",
      "Done!\n",
      "Prediction time (secs): 0.001\n",
      "F1 score for training set: 0.80378250591\n"
     ]
    }
   ],
   "source": [
    "# Predict on training set and compute F1 score\n",
    "from sklearn.metrics import f1_score\n",
    "\n",
    "def predict_labels(clf, features, target):\n",
    "    print \"Predicting labels using {}...\".format(clf.__class__.__name__)\n",
    "    start = time.time()\n",
    "    y_pred = clf.predict(features)\n",
    "    end = time.time()\n",
    "    print \"Done!\\nPrediction time (secs): {:.3f}\".format(end - start)\n",
    "    return f1_score(target.values, y_pred, pos_label='yes')\n",
    "\n",
    "train_f1_score = predict_labels(clf, X_train, y_train)\n",
    "print \"F1 score for training set: {}\".format(train_f1_score)"
   ]
  },
  {
   "cell_type": "code",
   "execution_count": 42,
   "metadata": {
    "collapsed": false
   },
   "outputs": [
    {
     "name": "stdout",
     "output_type": "stream",
     "text": [
      "Predicting labels using GaussianNB...\n",
      "Done!\n",
      "Prediction time (secs): 0.001\n",
      "F1 score for test set: 0.763358778626\n"
     ]
    }
   ],
   "source": [
    "# Predict on test data\n",
    "print \"F1 score for test set: {}\".format(predict_labels(clf, X_test, y_test))"
   ]
  },
  {
   "cell_type": "code",
   "execution_count": 61,
   "metadata": {
    "collapsed": false
   },
   "outputs": [
    {
     "name": "stdout",
     "output_type": "stream",
     "text": [
      "(100, 48)\n",
      "(100L,)\n",
      "------------------------------------------\n",
      "Training set size: 100\n",
      "Training GaussianNB...\n",
      "Done!\n",
      "Training time (secs): 0.014\n",
      "Predicting labels using GaussianNB...\n",
      "Done!\n",
      "Prediction time (secs): 0.000\n",
      "F1 score for training set: 0.453608247423\n",
      "Predicting labels using GaussianNB...\n",
      "Done!\n",
      "Prediction time (secs): 0.002\n",
      "F1 score for test set: 0.282051282051\n",
      "(200, 48)\n",
      "(200L,)\n",
      "------------------------------------------\n",
      "Training set size: 200\n",
      "Training GaussianNB...\n",
      "Done!\n",
      "Training time (secs): 0.002\n",
      "Predicting labels using GaussianNB...\n",
      "Done!\n",
      "Prediction time (secs): 0.003\n",
      "F1 score for training set: 0.807142857143\n",
      "Predicting labels using GaussianNB...\n",
      "Done!\n",
      "Prediction time (secs): 0.001\n",
      "F1 score for test set: 0.75\n",
      "(300, 48)\n",
      "(300L,)\n",
      "------------------------------------------\n",
      "Training set size: 300\n",
      "Training GaussianNB...\n",
      "Done!\n",
      "Training time (secs): 0.003\n",
      "Predicting labels using GaussianNB...\n",
      "Done!\n",
      "Prediction time (secs): 0.001\n",
      "F1 score for training set: 0.824644549763\n",
      "Predicting labels using GaussianNB...\n",
      "Done!\n",
      "Prediction time (secs): 0.001\n",
      "F1 score for test set: 0.777777777778\n"
     ]
    }
   ],
   "source": [
    "# Train and predict using different training set sizes\n",
    "from sklearn.naive_bayes import GaussianNB\n",
    "clf =  GaussianNB()\n",
    "def train_predict(clf, X_train, y_train, X_test, y_test):\n",
    "    print \"------------------------------------------\"\n",
    "    print \"Training set size: {}\".format(len(X_train))\n",
    "    train_classifier(clf, X_train, y_train)\n",
    "    print \"F1 score for training set: {}\".format(predict_labels(clf, X_train, y_train))\n",
    "    print \"F1 score for test set: {}\".format(predict_labels(clf, X_test, y_test))\n",
    "\n",
    "# TODO: Run the helper function above for desired subsets of training data\n",
    "# Note: Keep the test set constant\n",
    "training_size = [ 100, 200, 300]\n",
    "for x in training_size:\n",
    "    X_train = X_all[:x]\n",
    "    print (X_train.shape)\n",
    "    y_train = y_all[:x]\n",
    "    print (y_train.shape)\n",
    "    train_predict(clf, X_train, y_train, X_test, y_test)"
   ]
  },
  {
   "cell_type": "code",
   "execution_count": 62,
   "metadata": {
    "collapsed": false
   },
   "outputs": [
    {
     "name": "stdout",
     "output_type": "stream",
     "text": [
      "------------------------------------------\n",
      "Training set size: 100\n",
      "Training DecisionTreeClassifier...\n",
      "Done!\n",
      "Training time (secs): 0.001\n",
      "Predicting labels using DecisionTreeClassifier...\n",
      "Done!\n",
      "Prediction time (secs): 0.000\n",
      "F1 score for training set: 1.0\n",
      "Predicting labels using DecisionTreeClassifier...\n",
      "Done!\n",
      "Prediction time (secs): 0.000\n",
      "F1 score for test set: 0.796875\n",
      "------------------------------------------\n",
      "Training set size: 200\n",
      "Training DecisionTreeClassifier...\n",
      "Done!\n",
      "Training time (secs): 0.002\n",
      "Predicting labels using DecisionTreeClassifier...\n",
      "Done!\n",
      "Prediction time (secs): 0.000\n",
      "F1 score for training set: 1.0\n",
      "Predicting labels using DecisionTreeClassifier...\n",
      "Done!\n",
      "Prediction time (secs): 0.000\n",
      "F1 score for test set: 0.766666666667\n",
      "------------------------------------------\n",
      "Training set size: 300\n",
      "Training DecisionTreeClassifier...\n",
      "Done!\n",
      "Training time (secs): 0.003\n",
      "Predicting labels using DecisionTreeClassifier...\n",
      "Done!\n",
      "Prediction time (secs): 0.000\n",
      "F1 score for training set: 1.0\n",
      "Predicting labels using DecisionTreeClassifier...\n",
      "Done!\n",
      "Prediction time (secs): 0.000\n",
      "F1 score for test set: 0.888888888889\n"
     ]
    }
   ],
   "source": [
    "from sklearn import tree\n",
    "from sklearn.externals.six import StringIO \n",
    "from pandas import DataFrame\n",
    "from os import system\n",
    "from IPython.display import Image  \n",
    "#import pydot2\n",
    "clf = tree.DecisionTreeClassifier(random_state=40)\n",
    "training_size = [ 100, 200, 300]\n",
    "for x in training_size:\n",
    "    X_train = X_all[:x]\n",
    "    #print (X_train.shape)\n",
    "    y_train = y_all[:x]\n",
    "    #print (y_train.shape)\n",
    "    #exporting tree to a dot format so that we can import it from graph vizualizer to display the tree structure\n",
    "    train_predict(clf, X_train, y_train, X_test, y_test)\n",
    "\n",
    "#Priniting important features in dataframe\n",
    "#print DataFrame(clf.feature_importances_, columns = [\"Imp\"], index = X_train.columns).sort(['Imp'], ascending = False)\n",
    "\n",
    "#exporting training data to a csv file\n",
    "#X_train.to_csv('out1.csv')\n",
    "#y_train.to_csv('out2.csv')\n",
    "\n",
    "#exporting tree to a dot format so that we can import it from graph vizualizer to display the tree structure\n",
    "#tree.export_graphviz(clf, out_file='C:/Users/jac812i/dtree6.dot', feature_names = X_train.columns)\n",
    "\n",
    "\n",
    "\n",
    "\n"
   ]
  },
  {
   "cell_type": "code",
   "execution_count": 59,
   "metadata": {
    "collapsed": false
   },
   "outputs": [
    {
     "name": "stdout",
     "output_type": "stream",
     "text": [
      "(100, 48)\n",
      "(100L,)\n",
      "------------------------------------------\n",
      "Training set size: 100\n",
      "Training RandomForestClassifier...\n",
      "Done!\n",
      "Training time (secs): 0.056\n",
      "Predicting labels using RandomForestClassifier...\n",
      "Done!\n",
      "Prediction time (secs): 0.006\n",
      "F1 score for training set: 0.993288590604\n",
      "Predicting labels using RandomForestClassifier...\n",
      "Done!\n",
      "Prediction time (secs): 0.002\n",
      "F1 score for test set: 0.776119402985\n",
      "(200, 48)\n",
      "(200L,)\n",
      "------------------------------------------\n",
      "Training set size: 200\n",
      "Training RandomForestClassifier...\n",
      "Done!\n",
      "Training time (secs): 0.037\n",
      "Predicting labels using RandomForestClassifier...\n",
      "Done!\n",
      "Prediction time (secs): 0.002\n",
      "F1 score for training set: 0.992647058824\n",
      "Predicting labels using RandomForestClassifier...\n",
      "Done!\n",
      "Prediction time (secs): 0.001\n",
      "F1 score for test set: 0.881355932203\n",
      "(300, 48)\n",
      "(300L,)\n",
      "------------------------------------------\n",
      "Training set size: 300\n",
      "Training RandomForestClassifier...\n",
      "Done!\n",
      "Training time (secs): 0.055\n",
      "Predicting labels using RandomForestClassifier...\n",
      "Done!\n",
      "Prediction time (secs): 0.005\n",
      "F1 score for training set: 0.995024875622\n",
      "Predicting labels using RandomForestClassifier...\n",
      "Done!\n",
      "Prediction time (secs): 0.002\n",
      "F1 score for test set: 0.923076923077\n"
     ]
    }
   ],
   "source": [
    "from sklearn.ensemble import RandomForestClassifier\n",
    "clf = RandomForestClassifier(random_state=40)\n",
    "training_size = [ 100, 200, 300]\n",
    "for x in training_size:\n",
    "    X_train = X_all[:x]\n",
    "    print (X_train.shape)\n",
    "    y_train = y_all[:x]\n",
    "    print (y_train.shape)\n",
    "    train_predict(clf, X_train, y_train, X_test, y_test)\n",
    "\n",
    "\n",
    "\n",
    "    "
   ]
  },
  {
   "cell_type": "markdown",
   "metadata": {},
   "source": [
    "## 5. Choosing the Best Model\n",
    "\n",
    "- Based on the experiments you performed earlier, in 1-2 paragraphs explain to the board of supervisors what single model you chose as the best model. Which model is generally the most appropriate based on the available data, limited resources, cost, and performance?\n",
    "- In 1-2 paragraphs explain to the board of supervisors in layman's terms how the final model chosen is supposed to work (for example if you chose a Decision Tree or Support Vector Machine, how does it make a prediction).\n",
    "- Fine-tune the model. Use Gridsearch with at least one important parameter tuned and with at least 3 settings. Use the entire training set for this.\n",
    "- What is the model's final F<sub>1</sub> score?"
   ]
  },
  {
   "cell_type": "code",
   "execution_count": 69,
   "metadata": {
    "collapsed": false
   },
   "outputs": [
    {
     "name": "stdout",
     "output_type": "stream",
     "text": [
      "Best fit parameter = {'criterion': 'gini', 'max_depth': 15}\n",
      "Best score = 0.726481821686\n",
      "Best parameters set:\n",
      "\tcriterion: 'gini'\n",
      "\tmax_depth: 15\n",
      "Predicting labels using GridSearchCV...\n",
      "Done!\n",
      "Prediction time (secs): 0.000\n",
      "F1 score for train set: 1.0\n",
      "Predicting labels using GridSearchCV...\n",
      "Done!\n",
      "Prediction time (secs): 0.000\n",
      "F1 score for final test set: 0.888888888889\n"
     ]
    }
   ],
   "source": [
    "# TODO: Fine-tune your model and report the best F1 score\n",
    "from sklearn import metrics\n",
    "from sklearn.grid_search import GridSearchCV\n",
    "from sklearn.ensemble import RandomForestClassifier\n",
    "from sklearn.metrics import f1_score\n",
    "from sklearn.metrics import make_scorer\n",
    "from sklearn import tree\n",
    "model = tree.DecisionTreeClassifier(random_state=40)\n",
    "\n",
    "f1_scorer = make_scorer(f1_score, pos_label=\"yes\")\n",
    "\n",
    "parameters = { \n",
    "        'criterion': [\"gini\",\"entropy\"],\n",
    "        'max_depth': [5,10,15,20,25],\n",
    "   # 'min_samples_split': [5, 10, 15]\n",
    "    #'min_samples_leaf': [5, 10, 15]\n",
    "}\n",
    "\n",
    "#clf = RandomForestClassifier(n_estimators= 500,max_features = 'auto', random_state=40)\n",
    "clf = GridSearchCV(model, parameters, n_jobs=1,scoring=f1_scorer)\n",
    "clf.fit(X_train, y_train)\n",
    "best_estimator = clf.best_estimator_\n",
    "\n",
    "print \"Best fit parameter = \" + str(clf.best_params_)\n",
    "print \"Best score = \" + str(clf.best_score_)\n",
    "print 'Best parameters set:'\n",
    "best_parameters = clf.best_estimator_.get_params()\n",
    "for param_name in sorted(parameters.keys()):\n",
    "    print '\\t%s: %r' % (param_name, best_parameters[param_name])\n",
    "\n",
    "\n",
    "# Returns the best configuration for a model using crosvalidation\n",
    "# and grid search\n",
    "\n",
    "#clf.fit(X_train, y_train)\n",
    "\n",
    "train_f1_score = predict_labels(clf, X_train, y_train)\n",
    "print \"F1 score for train set: {}\".format(train_f1_score) \n",
    "    \n",
    "test_f1_score = predict_labels(clf, X_test, y_test)\n",
    "print \"F1 score for final test set: {}\".format(test_f1_score) \n",
    "   \n"
   ]
  },
  {
   "cell_type": "code",
   "execution_count": null,
   "metadata": {
    "collapsed": true
   },
   "outputs": [],
   "source": []
  },
  {
   "cell_type": "code",
   "execution_count": null,
   "metadata": {
    "collapsed": true
   },
   "outputs": [],
   "source": []
  }
 ],
 "metadata": {
  "kernelspec": {
   "display_name": "Python 2",
   "language": "python",
   "name": "python2"
  },
  "language_info": {
   "codemirror_mode": {
    "name": "ipython",
    "version": 2
   },
   "file_extension": ".py",
   "mimetype": "text/x-python",
   "name": "python",
   "nbconvert_exporter": "python",
   "pygments_lexer": "ipython2",
   "version": "2.7.11"
  }
 },
 "nbformat": 4,
 "nbformat_minor": 0
}
